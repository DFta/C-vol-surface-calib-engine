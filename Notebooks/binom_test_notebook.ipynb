{
 "cells": [
  {
   "cell_type": "code",
   "execution_count": null,
   "id": "e0494e85",
   "metadata": {},
   "outputs": [
    {
     "ename": "",
     "evalue": "",
     "output_type": "error",
     "traceback": [
      "\u001b[1;31mThe Kernel crashed while executing code in the current cell or a previous cell. \n",
      "\u001b[1;31mPlease review the code in the cell(s) to identify a possible cause of the failure. \n",
      "\u001b[1;31mClick <a href='https://aka.ms/vscodeJupyterKernelCrash'>here</a> for more info. \n",
      "\u001b[1;31mView Jupyter <a href='command:jupyter.viewOutput'>log</a> for further details."
     ]
    }
   ],
   "source": [
    "import sys"
   ]
  },
  {
   "cell_type": "code",
   "execution_count": 3,
   "id": "93a49c37",
   "metadata": {},
   "outputs": [
    {
     "ename": "ModuleNotFoundError",
     "evalue": "No module named 'volpy'",
     "output_type": "error",
     "traceback": [
      "\u001b[31m---------------------------------------------------------------------------\u001b[39m",
      "\u001b[31mModuleNotFoundError\u001b[39m                       Traceback (most recent call last)",
      "\u001b[36mCell\u001b[39m\u001b[36m \u001b[39m\u001b[32mIn[3]\u001b[39m\u001b[32m, line 1\u001b[39m\n\u001b[32m----> \u001b[39m\u001b[32m1\u001b[39m \u001b[38;5;28;01mimport\u001b[39;00m\u001b[38;5;250m \u001b[39m\u001b[34;01mvolpy\u001b[39;00m\u001b[38;5;250m \u001b[39m\u001b[38;5;28;01mas\u001b[39;00m\u001b[38;5;250m \u001b[39m\u001b[34;01mvp\u001b[39;00m\n",
      "\u001b[31mModuleNotFoundError\u001b[39m: No module named 'volpy'"
     ]
    }
   ],
   "source": [
    "import volpy as vp"
   ]
  },
  {
   "cell_type": "code",
   "execution_count": 2,
   "id": "00e4a36f",
   "metadata": {},
   "outputs": [
    {
     "ename": "AttributeError",
     "evalue": "module 'volpy' has no attribute 'binom_price'",
     "output_type": "error",
     "traceback": [
      "\u001b[31m---------------------------------------------------------------------------\u001b[39m",
      "\u001b[31mAttributeError\u001b[39m                            Traceback (most recent call last)",
      "\u001b[36mCell\u001b[39m\u001b[36m \u001b[39m\u001b[32mIn[2]\u001b[39m\u001b[32m, line 1\u001b[39m\n\u001b[32m----> \u001b[39m\u001b[32m1\u001b[39m \u001b[43mvp\u001b[49m\u001b[43m.\u001b[49m\u001b[43mbinom_price\u001b[49m(\u001b[32m100\u001b[39m,\u001b[32m100\u001b[39m,\u001b[32m0.05\u001b[39m,\u001b[32m0.0\u001b[39m,\u001b[32m1.0\u001b[39m,\u001b[32m0.25\u001b[39m,\u001b[32m200\u001b[39m, \u001b[38;5;28;01mTrue\u001b[39;00m, \u001b[38;5;28;01mTrue\u001b[39;00m)\n\u001b[32m      2\u001b[39m res = vp.binom_price_w_info(\u001b[32m100\u001b[39m,\u001b[32m100\u001b[39m,\u001b[32m0.05\u001b[39m,\u001b[32m0.0\u001b[39m,\u001b[32m1.0\u001b[39m,\u001b[32m0.25\u001b[39m,\u001b[32m200\u001b[39m, \u001b[38;5;28;01mFalse\u001b[39;00m, \u001b[38;5;28;01mTrue\u001b[39;00m)\n\u001b[32m      3\u001b[39m res.price, res.earl_exercise_step\n",
      "\u001b[31mAttributeError\u001b[39m: module 'volpy' has no attribute 'binom_price'"
     ]
    }
   ],
   "source": [
    "vp.binom_price(100,100,0.05,0.0,1.0,0.25,200, True, True)\n",
    "res = vp.binom_price_w_info(100,100,0.05,0.0,1.0,0.25,200, False, True)\n",
    "res.price, res.earl_exercise_step"
   ]
  },
  {
   "cell_type": "code",
   "execution_count": null,
   "id": "c330c688",
   "metadata": {},
   "outputs": [],
   "source": []
  }
 ],
 "metadata": {
  "kernelspec": {
   "display_name": ".venv",
   "language": "python",
   "name": "python3"
  },
  "language_info": {
   "codemirror_mode": {
    "name": "ipython",
    "version": 3
   },
   "file_extension": ".py",
   "mimetype": "text/x-python",
   "name": "python",
   "nbconvert_exporter": "python",
   "pygments_lexer": "ipython3",
   "version": "3.11.9"
  }
 },
 "nbformat": 4,
 "nbformat_minor": 5
}
